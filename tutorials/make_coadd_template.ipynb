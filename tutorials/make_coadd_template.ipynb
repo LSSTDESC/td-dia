{
 "cells": [
  {
   "cell_type": "markdown",
   "id": "1a0bbbb5-f2a7-44dd-bce6-95a9a5a72805",
   "metadata": {},
   "source": [
    "# Make a Coadd from Gen3 Run3 DDF\n",
    "\n"
   ]
  },
  {
   "cell_type": "markdown",
   "id": "e51c39e7-11e9-4f92-b745-f81dc2982f76",
   "metadata": {},
   "source": [
    "See Bob Armstrong slides\n",
    "\n",
    "https://docs.google.com/presentation/d/1bs3z6bqpAZ2WuSjpZOGuhgRnpz3Zd7ighkM-IDgk1dA/view\n",
    "\n",
    "Run 2.2i DC2 data in:\n",
    "/global/cfs/cdirs/lsst/production/gen3/DC2/Run2.2i/repo\n",
    "Create a user directory in the gen3 repo. This should be a symlink to write-accessible area [that you’ve created separately]:\n",
    "/global/cfs/cdirs/lsst/production/gen3/DC2/Run2.2i/repo/u/<username>\n",
    "Ask Jim for credentials to access to the postgres db\n",
    "\n",
    "Run 3.1i DC2 DDF data in:\n",
    "\n",
    "/global/cfs/cdirs/lsst/production/gen3/DC2/Run3.1i/repo/\n",
    "\n",
    "1. Create your own user directory under the above repo\n",
    "    \n",
    "/global/cfs/cdirs/lsst/production/gen3/DC2/Run3.1i/repo/u/\n",
    "\n",
    "E.g., /global/cfs/cdirs/lsst/production/gen3/DC2/Run3.1i/repo/u/wmwv\n",
    "    \n",
    "as a symlink to a directory you've created on $CSCRATCH to hold data.\n",
    "\n",
    "```\n",
    "mkdir -p $SCRATCH/DC2/Gen3/Run_3.1i/repo\n",
    "ln -s $SCRATCH/DC2/Gen3/Run_3.1i/repo /global/cfs/cdirs/lsst/production/gen3/DC2/Run3.1i/repo/u/wmwv\n",
    "```\n",
    "\n"
   ]
  },
  {
   "cell_type": "markdown",
   "id": "df2d88a3-2e3d-43b2-999c-e64dbbb636fa",
   "metadata": {},
   "source": [
    "Bob's slide on Learning the new Butler\n",
    "\n",
    "Science Pipeline Tutorial from DM: https://pipelines.lsst.io/v/weekly/\n",
    "\n",
    "Middleware tutorials: https://pipelines.lsst.io/v/weekly/middleware/faq.html, https://pipelines.lsst.io/v/weekly/modules/lsst.daf.butler/organizing.html\n",
    "\n",
    "Testing datasets: https://github.com/lsst/ci_imsim - A small dataset that allows you to run through the whole pipeline in a finite set of time.\n",
    "\n",
    "Slack channels: #dm-middleware-support, #dm-middleware-dev\n",
    "\n",
    "Tutorial by Jim Chiang on how to use parsl to scale processing on NERSC: https://docs.google.com/presentation/d/1EO_UBVhISBrBussCsIvJhNVxSnyfg5z6yIPaz99gA0A/view\n",
    "\n",
    "Tutorial on creating a PipelineTask: https://github.com/lsst/pipe_base/blob/main/doc/lsst.pipe.base/creating-a-pipelinetask.rst\n"
   ]
  },
  {
   "cell_type": "code",
   "execution_count": null,
   "id": "d6ea4189-3f69-45ad-b74d-26152bbd008f",
   "metadata": {},
   "outputs": [],
   "source": [
    "from lsst.daf.butler import Butler"
   ]
  },
  {
   "cell_type": "code",
   "execution_count": null,
   "id": "15ecc761-75f6-4358-b502-30400e9800af",
   "metadata": {},
   "outputs": [],
   "source": [
    "butler = Butler(\"/global/cfs/cdirs/lsst/production/gen3/DC2/Run3.1i/repo/\")"
   ]
  },
  {
   "cell_type": "code",
   "execution_count": null,
   "id": "817f9d89-f416-4d9e-a8ed-98008c9ad57a",
   "metadata": {},
   "outputs": [],
   "source": [
    "list(butler.registry.queryDatasetTypes())"
   ]
  },
  {
   "cell_type": "markdown",
   "id": "ced7b4ea-84da-4265-a42a-a80cbcdb6785",
   "metadata": {},
   "source": [
    "A careful parsing of the above list will reveal that there are no coadds available yet (as of 2022-04-12).  Just single-visit processing."
   ]
  },
  {
   "cell_type": "code",
   "execution_count": null,
   "id": "61e227e9-6480-4abe-bedb-494c655f58f5",
   "metadata": {},
   "outputs": [],
   "source": [
    "list(butler.registry.queryDatasetTypes(\"goodSeeingCoadd\"))"
   ]
  },
  {
   "cell_type": "markdown",
   "id": "e17ea4af-afd9-491e-ad0f-51780aa5182a",
   "metadata": {},
   "source": [
    "One key dataset we're going to need from the single-frame processing is the `visitSummary`"
   ]
  },
  {
   "cell_type": "code",
   "execution_count": null,
   "id": "0cc12f25-50f3-4d63-aa8c-83f9c480ec36",
   "metadata": {},
   "outputs": [],
   "source": [
    "list(butler.registry.queryDatasetTypes(\"visitSummary\"))"
   ]
  },
  {
   "cell_type": "markdown",
   "id": "b938cce9-f87c-4f7b-8de5-bc942b909b75",
   "metadata": {},
   "source": [
    "From the `visitSummary` we can get our visit list for a given tract, patch"
   ]
  },
  {
   "cell_type": "markdown",
   "id": "feab0459-5724-4241-8d8e-d91941bc6dbd",
   "metadata": {},
   "source": [
    "Make a YAML file describing what we want to happen\n",
    "subsets:\n",
    "    dia\n",
    "    - selectListVisits\n",
    "    - templateGen\n"
   ]
  },
  {
   "cell_type": "code",
   "execution_count": null,
   "id": "2f8f7ea6-8878-4ca3-a3c6-6c97230a3d6d",
   "metadata": {},
   "outputs": [],
   "source": [
    "list(butler.registry.queryCollections())"
   ]
  },
  {
   "cell_type": "code",
   "execution_count": null,
   "id": "36730246-b6b4-471b-978e-a1b9a459ae34",
   "metadata": {},
   "outputs": [],
   "source": [
    "i = 0\n",
    "for data_id in butler.registry.queryDataIds(\n",
    "    [\"tract\", \"visit\", \"detector\"],\n",
    "    instrument=\"LSSTCam-imSim\",\n",
    "    datasets=\"VisitSummary\",\n",
    "    collections=\"u/descdm/sfp_ddf_visits_part_01\",\n",
    "    visit=\"249460\",\n",
    "):\n",
    "    i = i+1\n",
    "    if i > 10:\n",
    "        break\n",
    "        \n",
    "    print(data_id)"
   ]
  },
  {
   "cell_type": "markdown",
   "id": "83ecf5ca-74c4-4f8b-9019-3d9eda93cfc1",
   "metadata": {},
   "source": [
    "I don't understand why there are duplicate entries."
   ]
  },
  {
   "cell_type": "code",
   "execution_count": null,
   "id": "ffe7adb2-c2d7-41c3-b90e-e95b1af686a1",
   "metadata": {},
   "outputs": [],
   "source": [
    "i = 0\n",
    "for data_id in butler.registry.queryDataIds(\n",
    "    [\"tract\", \"visit\", \"detector\"],\n",
    "    instrument=\"LSSTCam-imSim\",\n",
    "    datasets=\"VisitSummary\",\n",
    "    collections=\"u/descdm/sfp_ddf_visits_part_01\",\n",
    "    tract=\"4848\",\n",
    "):\n",
    "    print(i)\n",
    "    i = i+1\n",
    "    if i > 10:\n",
    "        break\n",
    "        \n",
    "    print(data_id)"
   ]
  },
  {
   "cell_type": "code",
   "execution_count": null,
   "id": "22931f6c-ac51-42fd-afbe-1e56a4f799b7",
   "metadata": {},
   "outputs": [],
   "source": [
    "from collections import defaultdict\n",
    "grouped_by_tract = defaultdict(set)\n",
    "\n",
    "i = 0\n",
    "for data_id in butler.registry.queryDataIds(\n",
    "    [\"tract\", \"visit\", \"detector\"],\n",
    "    instrument=\"LSSTCam-imSim\",\n",
    "    datasets=\"VisitSummary\",\n",
    "    collections=\"u/descdm/sfp_ddf_visits_part_01\",\n",
    "):  \n",
    "    i = i+1\n",
    "    if i > 1000:\n",
    "        break\n",
    "\n",
    "    grouped_by_tract[data_id[\"tract\"]].add(data_id)\n",
    "    \n",
    "print({k: len(v) for k, v in grouped_by_tract.items()})\n",
    "                                            "
   ]
  },
  {
   "cell_type": "markdown",
   "id": "afac2ab2-ad1f-47d5-9ea1-99e62e34dd69",
   "metadata": {},
   "source": [
    "The LSST Science Pipelines Data Release Processing:\n",
    "\n",
    "https://github.com/lsst/drp_pipe\n",
    "https://github.com/lsst/drp_pipe/blob/main/ingredients/DRP.yaml\n"
   ]
  },
  {
   "cell_type": "markdown",
   "id": "698d5ec8-b6f8-4c20-9162-4907c06696e1",
   "metadata": {},
   "source": [
    "From Lee Kelvin's writeup:  \n",
    "\n",
    "\"\"\"  \n",
    "Coadd-processing takes place within step3 of the DRP.yaml pipeline. A large number of tasks are performed during this step, including, but not limited to:\n",
    "\n",
    "jointcal - astrometric and photometric calibration  \n",
    "makeWarp - warping of visit-level imaging onto the coadd-plane  \n",
    "assembleCoadd - coaddition of warped visit-level imaging into coadded images  \n",
    "detection - coadd-level object detection  \n",
    "deblend - object deblending  \n",
    "writeObjectTable - construction of coadd-level object catalogue  \n",
    "\"\"\""
   ]
  },
  {
   "cell_type": "markdown",
   "id": "a29c18bd-b53e-4c20-afe1-edaafce1b1bc",
   "metadata": {},
   "source": [
    "You can use the command-line version of the `butler` query tools by launcing a matching environment:\n",
    "\n",
    "On the command line:\n",
    "```\n",
    "shifter --clearenv --image=lsstdesc/td-env:dev /bin/bash\n",
    "bash-4.2$ source /opt/lsst/software/stack/loadLSST.bash\n",
    "ebash-4.2$ setup lsst_distrib\n",
    "```\n",
    "\n",
    "```\n",
    "REPO=/global/cfs/cdirs/lsst/production/gen3/DC2/Run3.1i/repo\n",
    "```"
   ]
  },
  {
   "cell_type": "code",
   "execution_count": null,
   "id": "50f662c9-3ef0-4b77-ac05-577775108979",
   "metadata": {},
   "outputs": [],
   "source": []
  }
 ],
 "metadata": {
  "kernelspec": {
   "display_name": "desc-stack-weekly",
   "language": "python",
   "name": "desc-stack-weekly"
  },
  "language_info": {
   "codemirror_mode": {
    "name": "ipython",
    "version": 3
   },
   "file_extension": ".py",
   "mimetype": "text/x-python",
   "name": "python",
   "nbconvert_exporter": "python",
   "pygments_lexer": "ipython3",
   "version": "3.8.8"
  }
 },
 "nbformat": 4,
 "nbformat_minor": 5
}
