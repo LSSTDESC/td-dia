{
 "cells": [
  {
   "cell_type": "markdown",
   "id": "1a0bbbb5-f2a7-44dd-bce6-95a9a5a72805",
   "metadata": {},
   "source": [
    "# Make a Coadd from Gen3 Run3 DDF\n",
    "\n"
   ]
  },
  {
   "cell_type": "markdown",
   "id": "e51c39e7-11e9-4f92-b745-f81dc2982f76",
   "metadata": {},
   "source": [
    "See Bob Armstrong slides\n",
    "\n",
    "https://docs.google.com/presentation/d/1bs3z6bqpAZ2WuSjpZOGuhgRnpz3Zd7ighkM-IDgk1dA/view\n",
    "\n",
    "Run 2.2i DC2 data in:\n",
    "\n",
    "```\n",
    "/global/cfs/cdirs/lsst/production/gen3/DC2/Run2.2i/repo\n",
    "```\n",
    "\n",
    "Create a user directory in the gen3 repo. This should be a symlink to write-accessible area [that you’ve created separately]:\n",
    "\n",
    "```\n",
    "/global/cfs/cdirs/lsst/production/gen3/DC2/Run2.2i/repo/u/<username>\n",
    "```\n",
    "\n",
    "Ask Jim for credentials to access to the postgres db\n",
    "\n",
    "Run 3.1i DC2 DDF data in:\n",
    "\n",
    "```\n",
    "/global/cfs/cdirs/lsst/production/gen3/DC2/Run3.1i/repo/\n",
    "```\n",
    "\n",
    "1. Create your own user directory under the above repo\n",
    "   \n",
    "```\n",
    "/global/cfs/cdirs/lsst/production/gen3/DC2/Run3.1i/repo/u/\n",
    "```\n",
    "\n",
    "E.g., `/global/cfs/cdirs/lsst/production/gen3/DC2/Run3.1i/repo/u/wmwv`\n",
    "    \n",
    "as a symlink to a directory you've created on $SCRATCH to hold data.\n",
    "\n",
    "```\n",
    "mkdir -p $SCRATCH/DC2/Gen3/Run_3.1i/repo\n",
    "ln -s $SCRATCH/DC2/Gen3/Run_3.1i/repo /global/cfs/cdirs/lsst/production/gen3/DC2/Run3.1i/repo/u/wmwv\n",
    "```\n",
    "\n"
   ]
  },
  {
   "cell_type": "markdown",
   "id": "df2d88a3-2e3d-43b2-999c-e64dbbb636fa",
   "metadata": {},
   "source": [
    "Bob's slide on Learning the new Butler\n",
    "\n",
    "Science Pipeline Tutorial from DM: https://pipelines.lsst.io/v/weekly/\n",
    "\n",
    "MWV: I found reading the following pretty key for starting to make my way around the Butler, but it also left me with questions:\n",
    "\n",
    "Middleware tutorials:\n",
    "  * https://pipelines.lsst.io/v/weekly/middleware/faq.html\n",
    "  * https://pipelines.lsst.io/v/weekly/modules/lsst.daf.butler/organizing.html\n",
    "\n",
    "Testing datasets: https://github.com/lsst/ci_imsim - A small dataset that allows you to run through the whole pipeline in a finite set of time.\n",
    "\n",
    "Slack channels: #dm-middleware-support, #dm-middleware-dev\n",
    "\n",
    "Tutorial by Jim Chiang on how to use parsl to scale processing on NERSC: https://docs.google.com/presentation/d/1EO_UBVhISBrBussCsIvJhNVxSnyfg5z6yIPaz99gA0A/view\n",
    "\n",
    "Tutorial on creating a PipelineTask: https://github.com/lsst/pipe_base/blob/main/doc/lsst.pipe.base/creating-a-pipelinetask.rst\n",
    "\n",
    "Also see  \n",
    "https://pipelines.lsst.io/getting-started/dc2-guide.html\n"
   ]
  },
  {
   "cell_type": "code",
   "execution_count": null,
   "id": "d6ea4189-3f69-45ad-b74d-26152bbd008f",
   "metadata": {},
   "outputs": [],
   "source": [
    "from lsst.daf.butler import Butler"
   ]
  },
  {
   "cell_type": "code",
   "execution_count": null,
   "id": "eeff84af-3e0e-4ade-9236-551d4a702c45",
   "metadata": {},
   "outputs": [],
   "source": [
    "# Run2.2i\n",
    "repo_location = \"/global/cfs/cdirs/lsst/production/gen3/DC2/Run3.1i/repo\"\n",
    "collection = \"u/descdm/sfp_ddf_visits_part_01\"\n",
    "tract = 4848\n",
    "\n",
    "# Run3.1i\n",
    "# repo_location = \"/global/cfs/cdirs/lsst/production/gen3/DC2/Run2.2i/repo\"\n",
    "# collection = \"u/descdm/sfp_Y1_4431_4432_visits_part_00\"\n",
    "# tract = 4432"
   ]
  },
  {
   "cell_type": "code",
   "execution_count": null,
   "id": "657a09e0-690c-4b68-984c-d01c65d1d330",
   "metadata": {},
   "outputs": [],
   "source": [
    "butler = Butler(repo_location)"
   ]
  },
  {
   "cell_type": "markdown",
   "id": "dd750e6e-9925-4461-a589-dfe8b7b41b18",
   "metadata": {},
   "source": [
    "Here are all the types the Butler currently knows about.  These don't all necessarily exist.  They are the Dataset types that have been registered with the Butler."
   ]
  },
  {
   "cell_type": "code",
   "execution_count": null,
   "id": "c4731203-6dfe-4866-a588-b3788701ffe8",
   "metadata": {},
   "outputs": [],
   "source": [
    "list(butler.registry.queryDatasetTypes())"
   ]
  },
  {
   "cell_type": "code",
   "execution_count": null,
   "id": "817f9d89-f416-4d9e-a8ed-98008c9ad57a",
   "metadata": {},
   "outputs": [],
   "source": [
    "list(butler.registry.queryDatasetTypes([\"calexp\", \"visitSummary\"]))"
   ]
  },
  {
   "cell_type": "markdown",
   "id": "ced7b4ea-84da-4265-a42a-a80cbcdb6785",
   "metadata": {},
   "source": [
    "This Butler doesn't know about coadds yet because no coadds have been run:"
   ]
  },
  {
   "cell_type": "code",
   "execution_count": null,
   "id": "61e227e9-6480-4abe-bedb-494c655f58f5",
   "metadata": {},
   "outputs": [],
   "source": [
    "list(butler.registry.queryDatasetTypes(\"goodSeeingCoadd\"))"
   ]
  },
  {
   "cell_type": "markdown",
   "id": "6504c2c4-f77c-4875-a6ce-c45cb354a4d9",
   "metadata": {},
   "source": [
    "Here are the datasets, \"collections\" that the Butler knows about:"
   ]
  },
  {
   "cell_type": "code",
   "execution_count": null,
   "id": "40801985-f480-44c3-9043-c11ba9b6f4e1",
   "metadata": {},
   "outputs": [],
   "source": []
  },
  {
   "cell_type": "code",
   "execution_count": null,
   "id": "2f8f7ea6-8878-4ca3-a3c6-6c97230a3d6d",
   "metadata": {},
   "outputs": [],
   "source": [
    "list(butler.registry.queryCollections())"
   ]
  },
  {
   "cell_type": "markdown",
   "id": "23c5ef1b-1013-44e4-a58c-c13d39976012",
   "metadata": {},
   "source": [
    "The entries we're interested in right now are are the collections of the form `u/descdm/sfp_ddf_visits_part_0[012]`.  In total there are/will be 10 parts.  Right now just the first three have been processed.\n",
    "\n",
    "The \"2.2i\" entries are for the calibration images, because it's the same calibration data for 2.2i and 3.1i."
   ]
  },
  {
   "cell_type": "markdown",
   "id": "86e9f860-6ad2-41b4-9a65-e8a1a8c96a9a",
   "metadata": {},
   "source": [
    "### Dimension Records\n",
    "\n",
    "The various attributes for the data ID keys are called \"dimensions\"."
   ]
  },
  {
   "cell_type": "code",
   "execution_count": null,
   "id": "f0dc4aa4-dc82-4b85-9ff3-263b02d2d225",
   "metadata": {},
   "outputs": [],
   "source": [
    "butler.registry.dimensions.getGovernorDimensions()"
   ]
  },
  {
   "cell_type": "code",
   "execution_count": null,
   "id": "02cb98ce-74f1-431f-aebd-64507a63ca29",
   "metadata": {},
   "outputs": [],
   "source": [
    "print(butler.registry.dimensions[\"instrument\"].RecordClass.fields)"
   ]
  },
  {
   "cell_type": "markdown",
   "id": "98c31fa2-0bc3-4c06-a80d-9d7861b949b2",
   "metadata": {},
   "source": [
    "But `skymap` doesn't work with a direct reference to print out the `fields`:"
   ]
  },
  {
   "cell_type": "code",
   "execution_count": null,
   "id": "06cd5d80-cd1f-438f-9a1f-08468746ceed",
   "metadata": {},
   "outputs": [],
   "source": [
    "print(butler.registry.dimensions[\"skymap\"].RecordClass.fields)"
   ]
  },
  {
   "cell_type": "markdown",
   "id": "87e3c783-e703-4156-95d4-d1b7a395de5e",
   "metadata": {},
   "source": [
    "One can get the names of these fields:"
   ]
  },
  {
   "cell_type": "code",
   "execution_count": null,
   "id": "d4af2a94-e802-4789-a0f4-7cb0c5f9b559",
   "metadata": {},
   "outputs": [],
   "source": [
    "print(butler.registry.dimensions[\"skymap\"].RecordClass.fields.names)"
   ]
  },
  {
   "cell_type": "markdown",
   "id": "e17ea4af-afd9-491e-ad0f-51780aa5182a",
   "metadata": {},
   "source": [
    "One key dataset we're going to need from the single-frame processing is the `visitSummary`"
   ]
  },
  {
   "cell_type": "code",
   "execution_count": null,
   "id": "0cc12f25-50f3-4d63-aa8c-83f9c480ec36",
   "metadata": {},
   "outputs": [],
   "source": [
    "list(butler.registry.queryDatasetTypes(\"visitSummary\"))"
   ]
  },
  {
   "cell_type": "code",
   "execution_count": null,
   "id": "3ac46ec5-2998-496e-a9ea-04e9b09e9700",
   "metadata": {},
   "outputs": [],
   "source": [
    "i = 0\n",
    "for data_ref in butler.registry.queryDatasets(\n",
    "    datasetType=\"calexp\",\n",
    "    collections=collection,\n",
    "    instrument=\"LSSTCam-imSim\",\n",
    "    where=f\"tract={tract} and skymap='DC2'\",\n",
    "):\n",
    "    i = i+1\n",
    "    if i > 10:\n",
    "         break\n",
    "        \n",
    "    print(data_ref.dataId.full)"
   ]
  },
  {
   "cell_type": "code",
   "execution_count": null,
   "id": "b6def85e-26ba-4683-b0cd-2fa38d5244ac",
   "metadata": {},
   "outputs": [],
   "source": [
    "print(\"Required: \", data_ref.dataId.graph.required)\n",
    "print(\"Implied: \", data_ref.dataId.graph.implied)"
   ]
  },
  {
   "cell_type": "code",
   "execution_count": null,
   "id": "650708ba-11a8-4c50-907c-6f79534a0257",
   "metadata": {},
   "outputs": [],
   "source": [
    "butler.registry.expandDataId(data_ref.dataId).full"
   ]
  },
  {
   "cell_type": "code",
   "execution_count": null,
   "id": "834865c6-da03-4730-9dbe-4b82ca9f9104",
   "metadata": {},
   "outputs": [],
   "source": [
    "data_ref.dimensions"
   ]
  },
  {
   "cell_type": "code",
   "execution_count": null,
   "id": "b5b3690f-d6e6-4a2a-a611-d14f1fc7d60b",
   "metadata": {},
   "outputs": [],
   "source": [
    "data_ref.dataId.full"
   ]
  },
  {
   "cell_type": "code",
   "execution_count": null,
   "id": "36730246-b6b4-471b-978e-a1b9a459ae34",
   "metadata": {},
   "outputs": [],
   "source": [
    "for data_id in butler.registry.queryDataIds(\n",
    "    [\"tract\", \"visit\", \"detector\"],\n",
    "    instrument=\"LSSTCam-imSim\",\n",
    "    datasets=\"calexp\",\n",
    "    collections=collection,\n",
    "    where=f\"skymap='DC2'\",\n",
    ").limit(10):\n",
    "    print(data_id.full)"
   ]
  },
  {
   "cell_type": "markdown",
   "id": "4d107ba7-3df9-429b-8ee1-753d3dd5bfd4",
   "metadata": {},
   "source": [
    "The `limit(10)` appears to work at some level before the final return because I only get 2.  If I do 100, I get more, although I didn't count them."
   ]
  },
  {
   "cell_type": "code",
   "execution_count": null,
   "id": "965e801b-8a8c-4411-95c1-a7ada9967196",
   "metadata": {},
   "outputs": [],
   "source": [
    "collection"
   ]
  },
  {
   "cell_type": "markdown",
   "id": "83ecf5ca-74c4-4f8b-9019-3d9eda93cfc1",
   "metadata": {},
   "source": [
    "Queries are not de-duplicated.  Need to use `set` to de-duplicate."
   ]
  },
  {
   "cell_type": "code",
   "execution_count": null,
   "id": "8bfdbe3c-e35a-4902-8058-40c7fa36bae6",
   "metadata": {},
   "outputs": [],
   "source": [
    "from collections import defaultdict\n",
    "grouped_by_tract = defaultdict(set)\n",
    "\n",
    "for data_id in butler.registry.queryDataIds(\n",
    "    [\"tract\", \"visit\", \"detector\"],\n",
    "    instrument=\"LSSTCam-imSim\",\n",
    "    datasets=\"calexp\",\n",
    "    collections=collection,\n",
    "    where=f\"tract={tract} and patch=37 and skymap='DC2'\",\n",
    ").limit(1000):\n",
    "    grouped_by_tract[data_id[\"tract\"]].add(data_id)"
   ]
  },
  {
   "cell_type": "code",
   "execution_count": null,
   "id": "7b2a2e6b-7192-49b0-a1cd-5b52e5b468f5",
   "metadata": {},
   "outputs": [],
   "source": [
    "print([f\"{k}: {len(v)} matching dataIds\" for k, v in grouped_by_tract.items()])                              "
   ]
  },
  {
   "cell_type": "markdown",
   "id": "afac2ab2-ad1f-47d5-9ea1-99e62e34dd69",
   "metadata": {},
   "source": [
    "The LSST Science Pipelines Data Release Processing:\n",
    "\n",
    "https://github.com/lsst/drp_pipe\n",
    "https://github.com/lsst/drp_pipe/blob/main/ingredients/DRP.yaml\n"
   ]
  },
  {
   "cell_type": "markdown",
   "id": "698d5ec8-b6f8-4c20-9162-4907c06696e1",
   "metadata": {},
   "source": [
    "From Lee Kelvin's writeup:  \n",
    "\n",
    "\"\"\"  \n",
    "Coadd-processing takes place within step3 of the DRP.yaml pipeline. A large number of tasks are performed during this step, including, but not limited to:\n",
    "\n",
    "jointcal - astrometric and photometric calibration  \n",
    "makeWarp - warping of visit-level imaging onto the coadd-plane  \n",
    "assembleCoadd - coaddition of warped visit-level imaging into coadded images  \n",
    "detection - coadd-level object detection  \n",
    "deblend - object deblending  \n",
    "writeObjectTable - construction of coadd-level object catalogue  \n",
    "\"\"\""
   ]
  },
  {
   "cell_type": "markdown",
   "id": "a29c18bd-b53e-4c20-afe1-edaafce1b1bc",
   "metadata": {},
   "source": [
    "You can use the command-line version of the `butler` query tools by launcing a matching environment:\n",
    "\n",
    "On the command line:\n",
    "```\n",
    "shifter --clearenv --image=lsstdesc/td-env:dev /bin/bash\n",
    "bash-4.2$ source /opt/lsst/software/stack/loadLSST.bash\n",
    "ebash-4.2$ setup lsst_distrib\n",
    "```\n",
    "\n",
    "```\n",
    "REPO=/global/cfs/cdirs/lsst/production/gen3/DC2/Run3.1i/repo\n",
    "```"
   ]
  },
  {
   "cell_type": "markdown",
   "id": "558ba2f2-705f-4178-825b-7605492f2977",
   "metadata": {},
   "source": [
    "Make a YAML file describing what we want to happen\n",
    "subsets:\n",
    "    dia\n",
    "    - selectListVisits\n",
    "    - templateGen\n"
   ]
  },
  {
   "cell_type": "markdown",
   "id": "b3af303f-5107-45ac-8e5e-b9107b000eff",
   "metadata": {},
   "source": [
    "Running the following command-line task would do the warping for 125 images to prepare them to make a coadd for (tract, patch) (4848, 37).  This took about 60 minutes to run in serial using 8 cores on a Cori login node."
   ]
  },
  {
   "cell_type": "markdown",
   "id": "4f020067-f5f9-4037-a64e-3302193ed08e",
   "metadata": {},
   "source": [
    "```\n",
    "! pipetask run -b $REPO/butler.yaml \\\n",
    "-d \"tract = 4848 AND skymap = 'DC2' AND patch = 37 AND band = 'r'\" \\\n",
    "-p $DRP_PIPE_DIR/ingredients/LSSTCam-imSim/DRP.yaml#makeWarp \\\n",
    "-i u/descdm/sfp_ddf_visits_part_01 \\\n",
    "-o u/wmwv/warps \\\n",
    "--register-dataset-types \\\n",
    "2>&1 | tee makeWarp.log\n",
    "```"
   ]
  },
  {
   "cell_type": "markdown",
   "id": "02168b15-b9d4-4d21-a82b-78adc17467bf",
   "metadata": {},
   "source": [
    "```\n",
    "! pipetask run -b $REPO/butler.yaml \\\n",
    "-d \"tract = 4848 AND skymap = 'DC2' AND patch = 37 AND band = 'r'\" \\\n",
    "-p $DRP_PIPE_DIR/ingredients/LSSTCam-imSim/DRP.yaml#assembleCoadd \\\n",
    "-i u/wmwv/warps \\\n",
    "-o u/wmwv/coadd \\\n",
    "--register-dataset-types \\\n",
    "2>&1 | tee assembleCoadd.log\n",
    "```"
   ]
  },
  {
   "cell_type": "markdown",
   "id": "18afc034-e0c3-48fe-b7d4-6cbbd470897d",
   "metadata": {},
   "source": [
    "Here we can run the first set of steps to get a basic set of coadds and then make a \"best-seeing\" template."
   ]
  },
  {
   "cell_type": "markdown",
   "id": "b4e2e189-089c-415e-a884-d54684728246",
   "metadata": {},
   "source": [
    "```\n",
    "cat > coadd.yaml\n",
    "description: DRP specialized for ImSim-DC2 data\n",
    "instrument: lsst.obs.lsst.LsstCamImSim\n",
    "imports:\n",
    "  - $DRP_PIPE_DIR/ingredients/DRP.yaml\n",
    "  - $FARO_DIR/pipelines/metrics_pipeline.yaml\n",
    "subsets:\n",
    "  coadd_steps:\n",
    "    subset:\n",
    "      - makeWarp\n",
    "      - assembleCoadd\n",
    "      - detection\n",
    "      - selectGoodSeeingVisits\n",
    "      - templateGen\n",
    "    description: >\n",
    "      Basic steps to get to template generation.\n",
    "```"
   ]
  },
  {
   "cell_type": "markdown",
   "id": "2a177707-97b6-42af-ab53-1e2bfad29da7",
   "metadata": {},
   "source": [
    "```\n",
    "! REPO=/global/cfs/cdirs/lsst/production/gen3/DC2/Run3.1i/repo; pipetask run -b $REPO/butler.yaml \\\n",
    "-d \"tract = 4848 AND skymap = 'DC2' AND patch = 37 AND band = 'r'\" \\\n",
    "-p coadd.yaml#coadd_steps \\\n",
    "-i u/descdm/sfp_ddf_visits_part_01 \\\n",
    "-o u/wmwv/coadds \\\n",
    "--register-dataset-types \\\n",
    "2>&1 | tee coadd_steps.log\n",
    "```"
   ]
  },
  {
   "cell_type": "markdown",
   "id": "62893633-9436-475c-a25b-7b65fe93ef65",
   "metadata": {},
   "source": [
    "I only know how to do the above reasonably through the command-line interface."
   ]
  },
  {
   "cell_type": "markdown",
   "id": "0e4ce778-7df1-47b8-8808-6aea801e2f3e",
   "metadata": {},
   "source": [
    "But we can do the `selectGoodSeeingVisits` through the API"
   ]
  },
  {
   "cell_type": "code",
   "execution_count": null,
   "id": "c2d4d3a3-d05e-4b58-9217-b0fa803f3fa6",
   "metadata": {},
   "outputs": [],
   "source": []
  }
 ],
 "metadata": {
  "kernelspec": {
   "display_name": "desc-stack-weekly-latest",
   "language": "python",
   "name": "desc-stack-weekly-latest"
  },
  "language_info": {
   "codemirror_mode": {
    "name": "ipython",
    "version": 3
   },
   "file_extension": ".py",
   "mimetype": "text/x-python",
   "name": "python",
   "nbconvert_exporter": "python",
   "pygments_lexer": "ipython3",
   "version": "3.8.12"
  }
 },
 "nbformat": 4,
 "nbformat_minor": 5
}
